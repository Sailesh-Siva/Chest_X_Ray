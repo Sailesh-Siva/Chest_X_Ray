{
 "cells": [
  {
   "cell_type": "code",
   "execution_count": 1,
   "id": "339d2196-2e35-4bf7-a8c5-e28ba1be7fd3",
   "metadata": {},
   "outputs": [],
   "source": [
    "import tensorflow as tf\n",
    "from tensorflow.keras.preprocessing.image import ImageDataGenerator\n",
    "from tensorflow.keras.models import Sequential\n",
    "from tensorflow.keras.layers import Conv2D, MaxPooling2D, Flatten, Dense, Dropout\n",
    "from tensorflow.keras.optimizers import Adam"
   ]
  },
  {
   "cell_type": "code",
   "execution_count": 2,
   "id": "e15406d5-6f01-41d4-9ff0-d10526851aa7",
   "metadata": {},
   "outputs": [
    {
     "name": "stdout",
     "output_type": "stream",
     "text": [
      "Found 5217 images belonging to 2 classes.\n",
      "Found 625 images belonging to 2 classes.\n"
     ]
    }
   ],
   "source": [
    "# Define directories for the data\n",
    "train_dir = r'C:\\Users\\Sailesh\\Files\\Coding\\Python\\Projects\\ChestXRay\\train'\n",
    "test_dir = r'C:\\Users\\Sailesh\\Files\\Coding\\Python\\Projects\\ChestXRay\\test'\n",
    "\n",
    "# Data Augmentation for training and normal rescaling for testing\n",
    "train_datagen = ImageDataGenerator( \n",
    "    rescale=1./255,\n",
    "    shear_range=0.2,\n",
    "    zoom_range=0.2,\n",
    "    horizontal_flip=True\n",
    ")\n",
    "\n",
    "test_datagen = ImageDataGenerator(rescale=1./255)\n",
    "\n",
    "# Load images from directories, apply data augmentation to training set\n",
    "train_generator = train_datagen.flow_from_directory(\n",
    "    train_dir,\n",
    "    target_size=(150, 150),\n",
    "    batch_size=3,\n",
    "    class_mode='binary'\n",
    ")\n",
    "\n",
    "# Load images from test directory (no augmentation)\n",
    "test_generator = test_datagen.flow_from_directory(\n",
    "    test_dir,\n",
    "    target_size=(150, 150),\n",
    "    batch_size=5,\n",
    "    class_mode='binary'\n",
    ")\n"
   ]
  },
  {
   "cell_type": "code",
   "execution_count": 10,
   "id": "6df205a5-d3ce-4685-8fba-b0ea2748ffca",
   "metadata": {},
   "outputs": [
    {
     "name": "stdout",
     "output_type": "stream",
     "text": [
      "1739\n"
     ]
    }
   ],
   "source": [
    "print(len(train_generator))"
   ]
  },
  {
   "cell_type": "code",
   "execution_count": null,
   "id": "ff986126-83ec-481d-ae2b-f758ea7a96f2",
   "metadata": {},
   "outputs": [],
   "source": []
  }
 ],
 "metadata": {
  "kernelspec": {
   "display_name": "Python 3 (ipykernel)",
   "language": "python",
   "name": "python3"
  },
  "language_info": {
   "codemirror_mode": {
    "name": "ipython",
    "version": 3
   },
   "file_extension": ".py",
   "mimetype": "text/x-python",
   "name": "python",
   "nbconvert_exporter": "python",
   "pygments_lexer": "ipython3",
   "version": "3.11.9"
  }
 },
 "nbformat": 4,
 "nbformat_minor": 5
}
